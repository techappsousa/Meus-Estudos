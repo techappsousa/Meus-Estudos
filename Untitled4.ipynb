{
  "nbformat": 4,
  "nbformat_minor": 0,
  "metadata": {
    "colab": {
      "name": "Untitled4.ipynb",
      "provenance": [],
      "collapsed_sections": [],
      "authorship_tag": "ABX9TyPdPXN4Wj85Lx+dOLw1iAAT",
      "include_colab_link": true
    },
    "kernelspec": {
      "name": "python3",
      "display_name": "Python 3"
    },
    "language_info": {
      "name": "python"
    }
  },
  "cells": [
    {
      "cell_type": "markdown",
      "metadata": {
        "id": "view-in-github",
        "colab_type": "text"
      },
      "source": [
        "<a href=\"https://colab.research.google.com/github/techappsousa/Meus-Estudos/blob/main/Untitled4.ipynb\" target=\"_parent\"><img src=\"https://colab.research.google.com/assets/colab-badge.svg\" alt=\"Open In Colab\"/></a>"
      ]
    },
    {
      "cell_type": "code",
      "execution_count": 3,
      "metadata": {
        "colab": {
          "base_uri": "https://localhost:8080/"
        },
        "id": "NLPRLl-O6m1v",
        "outputId": "d651bb8b-da57-415b-9f3c-180b212f28cf"
      },
      "outputs": [
        {
          "output_type": "stream",
          "name": "stdout",
          "text": [
            "voce pedio um lanche de R$ 10.9 \n",
            "e uma batata de R$ 5.9 \n",
            "a companhado de um refri de R$ 3.8 \n",
            "seu pagamento  esta totalizando  R$ 20.6 \n",
            "o seu pagamento sera feito no cratao cartao\n"
          ]
        }
      ],
      "source": [
        "lanche = 10.9\n",
        "batata = 5.9\n",
        "refri = 3.8\n",
        "soma = lanche + batata + refri\n",
        "pagamento = 'cartao'\n",
        "print('voce pedio um lanche de R$',lanche,'\\ne uma batata de R$',batata,'\\na companhado de um refri de R$',refri,\n",
        "      '\\nseu pagamento  esta totalizando  R$',soma,'\\no seu pagamento sera feito no cratao',pagamento)"
      ]
    }
  ]
}